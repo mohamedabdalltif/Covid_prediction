{
 "cells": [
  {
   "cell_type": "code",
   "execution_count": 42,
   "id": "bd826c58",
   "metadata": {},
   "outputs": [],
   "source": [
    "import pandas as pd\n",
    "import numpy as np"
   ]
  },
  {
   "cell_type": "code",
   "execution_count": 43,
   "id": "156b43ac",
   "metadata": {},
   "outputs": [],
   "source": [
    "df=pd.read_csv('dataset.csv',delimiter=\";\")"
   ]
  },
  {
   "cell_type": "code",
   "execution_count": 44,
   "id": "2ba1529b",
   "metadata": {
    "scrolled": true
   },
   "outputs": [
    {
     "data": {
      "text/html": [
       "<div>\n",
       "<style scoped>\n",
       "    .dataframe tbody tr th:only-of-type {\n",
       "        vertical-align: middle;\n",
       "    }\n",
       "\n",
       "    .dataframe tbody tr th {\n",
       "        vertical-align: top;\n",
       "    }\n",
       "\n",
       "    .dataframe thead th {\n",
       "        text-align: right;\n",
       "    }\n",
       "</style>\n",
       "<table border=\"1\" class=\"dataframe\">\n",
       "  <thead>\n",
       "    <tr style=\"text-align: right;\">\n",
       "      <th></th>\n",
       "      <th>0</th>\n",
       "      <th>1</th>\n",
       "      <th>2</th>\n",
       "      <th>3</th>\n",
       "      <th>4</th>\n",
       "    </tr>\n",
       "  </thead>\n",
       "  <tbody>\n",
       "    <tr>\n",
       "      <th>Patient age quantile</th>\n",
       "      <td>17</td>\n",
       "      <td>11</td>\n",
       "      <td>9</td>\n",
       "      <td>13</td>\n",
       "      <td>14</td>\n",
       "    </tr>\n",
       "    <tr>\n",
       "      <th>SARS-Cov-2 exam result</th>\n",
       "      <td>negative</td>\n",
       "      <td>negative</td>\n",
       "      <td>negative</td>\n",
       "      <td>negative</td>\n",
       "      <td>negative</td>\n",
       "    </tr>\n",
       "    <tr>\n",
       "      <th>Hematocrit</th>\n",
       "      <td>0.236515</td>\n",
       "      <td>0.991838</td>\n",
       "      <td>0.190738</td>\n",
       "      <td>1.014726</td>\n",
       "      <td>0.740064</td>\n",
       "    </tr>\n",
       "    <tr>\n",
       "      <th>Hemoglobin</th>\n",
       "      <td>-0.02234</td>\n",
       "      <td>0.792188</td>\n",
       "      <td>-0.147652</td>\n",
       "      <td>0.854844</td>\n",
       "      <td>0.854844</td>\n",
       "    </tr>\n",
       "    <tr>\n",
       "      <th>Platelets</th>\n",
       "      <td>-0.517413</td>\n",
       "      <td>0.072992</td>\n",
       "      <td>-0.668155</td>\n",
       "      <td>-0.178244</td>\n",
       "      <td>0.361914</td>\n",
       "    </tr>\n",
       "    <tr>\n",
       "      <th>Mean platelet volume</th>\n",
       "      <td>0.010677</td>\n",
       "      <td>-0.55029</td>\n",
       "      <td>1.020415</td>\n",
       "      <td>0.796029</td>\n",
       "      <td>-0.55029</td>\n",
       "    </tr>\n",
       "    <tr>\n",
       "      <th>Red blood Cells</th>\n",
       "      <td>0.102004</td>\n",
       "      <td>0.542763</td>\n",
       "      <td>-0.127191</td>\n",
       "      <td>0.489872</td>\n",
       "      <td>0.436981</td>\n",
       "    </tr>\n",
       "    <tr>\n",
       "      <th>Lymphocytes</th>\n",
       "      <td>0.318366</td>\n",
       "      <td>0.045436</td>\n",
       "      <td>0.002791</td>\n",
       "      <td>-0.730707</td>\n",
       "      <td>-0.227493</td>\n",
       "    </tr>\n",
       "    <tr>\n",
       "      <th>Mean corpuscular hemoglobin concentration (MCHC)</th>\n",
       "      <td>-0.95079</td>\n",
       "      <td>-0.452899</td>\n",
       "      <td>-1.249524</td>\n",
       "      <td>-0.353319</td>\n",
       "      <td>0.642463</td>\n",
       "    </tr>\n",
       "    <tr>\n",
       "      <th>Leukocytes</th>\n",
       "      <td>-0.09461</td>\n",
       "      <td>-0.211488</td>\n",
       "      <td>-1.132592</td>\n",
       "      <td>-0.075131</td>\n",
       "      <td>0.105751</td>\n",
       "    </tr>\n",
       "    <tr>\n",
       "      <th>Basophils</th>\n",
       "      <td>-0.223767</td>\n",
       "      <td>-0.834685</td>\n",
       "      <td>0.387152</td>\n",
       "      <td>2.525365</td>\n",
       "      <td>-0.529226</td>\n",
       "    </tr>\n",
       "    <tr>\n",
       "      <th>Mean corpuscular hemoglobin (MCH)</th>\n",
       "      <td>-0.292269</td>\n",
       "      <td>0.334989</td>\n",
       "      <td>-0.083183</td>\n",
       "      <td>0.544077</td>\n",
       "      <td>0.596348</td>\n",
       "    </tr>\n",
       "    <tr>\n",
       "      <th>Eosinophils</th>\n",
       "      <td>1.482158</td>\n",
       "      <td>-0.70909</td>\n",
       "      <td>-0.70909</td>\n",
       "      <td>0.217977</td>\n",
       "      <td>-0.371974</td>\n",
       "    </tr>\n",
       "    <tr>\n",
       "      <th>Mean corpuscular volume (MCV)</th>\n",
       "      <td>0.166192</td>\n",
       "      <td>0.606842</td>\n",
       "      <td>0.566783</td>\n",
       "      <td>0.767079</td>\n",
       "      <td>0.386517</td>\n",
       "    </tr>\n",
       "    <tr>\n",
       "      <th>Monocytes</th>\n",
       "      <td>0.357547</td>\n",
       "      <td>-0.220244</td>\n",
       "      <td>2.012129</td>\n",
       "      <td>0.068652</td>\n",
       "      <td>0.121178</td>\n",
       "    </tr>\n",
       "    <tr>\n",
       "      <th>Red blood cell distribution width (RDW)</th>\n",
       "      <td>-0.625073</td>\n",
       "      <td>0.171035</td>\n",
       "      <td>0.613318</td>\n",
       "      <td>0.171035</td>\n",
       "      <td>-0.713529</td>\n",
       "    </tr>\n",
       "  </tbody>\n",
       "</table>\n",
       "</div>"
      ],
      "text/plain": [
       "                                                         0         1  \\\n",
       "Patient age quantile                                    17        11   \n",
       "SARS-Cov-2 exam result                            negative  negative   \n",
       "Hematocrit                                        0.236515  0.991838   \n",
       "Hemoglobin                                        -0.02234  0.792188   \n",
       "Platelets                                        -0.517413  0.072992   \n",
       "Mean platelet volume                              0.010677  -0.55029   \n",
       "Red blood Cells                                   0.102004  0.542763   \n",
       "Lymphocytes                                       0.318366  0.045436   \n",
       "Mean corpuscular hemoglobin concentration (MCHC)  -0.95079 -0.452899   \n",
       "Leukocytes                                        -0.09461 -0.211488   \n",
       "Basophils                                        -0.223767 -0.834685   \n",
       "Mean corpuscular hemoglobin (MCH)                -0.292269  0.334989   \n",
       "Eosinophils                                       1.482158  -0.70909   \n",
       "Mean corpuscular volume (MCV)                     0.166192  0.606842   \n",
       "Monocytes                                         0.357547 -0.220244   \n",
       "Red blood cell distribution width (RDW)          -0.625073  0.171035   \n",
       "\n",
       "                                                         2         3         4  \n",
       "Patient age quantile                                     9        13        14  \n",
       "SARS-Cov-2 exam result                            negative  negative  negative  \n",
       "Hematocrit                                        0.190738  1.014726  0.740064  \n",
       "Hemoglobin                                       -0.147652  0.854844  0.854844  \n",
       "Platelets                                        -0.668155 -0.178244  0.361914  \n",
       "Mean platelet volume                              1.020415  0.796029  -0.55029  \n",
       "Red blood Cells                                  -0.127191  0.489872  0.436981  \n",
       "Lymphocytes                                       0.002791 -0.730707 -0.227493  \n",
       "Mean corpuscular hemoglobin concentration (MCHC) -1.249524 -0.353319  0.642463  \n",
       "Leukocytes                                       -1.132592 -0.075131  0.105751  \n",
       "Basophils                                         0.387152  2.525365 -0.529226  \n",
       "Mean corpuscular hemoglobin (MCH)                -0.083183  0.544077  0.596348  \n",
       "Eosinophils                                       -0.70909  0.217977 -0.371974  \n",
       "Mean corpuscular volume (MCV)                     0.566783  0.767079  0.386517  \n",
       "Monocytes                                         2.012129  0.068652  0.121178  \n",
       "Red blood cell distribution width (RDW)           0.613318  0.171035 -0.713529  "
      ]
     },
     "execution_count": 44,
     "metadata": {},
     "output_type": "execute_result"
    }
   ],
   "source": [
    "df.head().T"
   ]
  },
  {
   "cell_type": "code",
   "execution_count": 45,
   "id": "f8b7b92a",
   "metadata": {},
   "outputs": [
    {
     "name": "stdout",
     "output_type": "stream",
     "text": [
      "<class 'pandas.core.frame.DataFrame'>\n",
      "RangeIndex: 519 entries, 0 to 518\n",
      "Data columns (total 16 columns):\n",
      " #   Column                                            Non-Null Count  Dtype  \n",
      "---  ------                                            --------------  -----  \n",
      " 0   Patient age quantile                              519 non-null    int64  \n",
      " 1   SARS-Cov-2 exam result                            519 non-null    object \n",
      " 2   Hematocrit                                        518 non-null    float64\n",
      " 3   Hemoglobin                                        518 non-null    float64\n",
      " 4   Platelets                                         518 non-null    float64\n",
      " 5   Mean platelet volume                              509 non-null    float64\n",
      " 6   Red blood Cells                                   518 non-null    float64\n",
      " 7   Lymphocytes                                       518 non-null    float64\n",
      " 8   Mean corpuscular hemoglobin concentration (MCHC)  518 non-null    float64\n",
      " 9   Leukocytes                                        518 non-null    float64\n",
      " 10  Basophils                                         518 non-null    float64\n",
      " 11  Mean corpuscular hemoglobin (MCH)                 518 non-null    float64\n",
      " 12  Eosinophils                                       518 non-null    float64\n",
      " 13  Mean corpuscular volume (MCV)                     518 non-null    float64\n",
      " 14  Monocytes                                         518 non-null    float64\n",
      " 15  Red blood cell distribution width (RDW)           518 non-null    float64\n",
      "dtypes: float64(14), int64(1), object(1)\n",
      "memory usage: 65.0+ KB\n"
     ]
    }
   ],
   "source": [
    "df.info()\n"
   ]
  },
  {
   "cell_type": "code",
   "execution_count": 46,
   "id": "d840b2be",
   "metadata": {},
   "outputs": [
    {
     "data": {
      "text/plain": [
       "Patient age quantile                                 0\n",
       "SARS-Cov-2 exam result                               0\n",
       "Hematocrit                                           1\n",
       "Hemoglobin                                           1\n",
       "Platelets                                            1\n",
       "Mean platelet volume                                10\n",
       "Red blood Cells                                      1\n",
       "Lymphocytes                                          1\n",
       "Mean corpuscular hemoglobin concentration (MCHC)     1\n",
       "Leukocytes                                           1\n",
       "Basophils                                            1\n",
       "Mean corpuscular hemoglobin (MCH)                    1\n",
       "Eosinophils                                          1\n",
       "Mean corpuscular volume (MCV)                        1\n",
       "Monocytes                                            1\n",
       "Red blood cell distribution width (RDW)              1\n",
       "dtype: int64"
      ]
     },
     "execution_count": 46,
     "metadata": {},
     "output_type": "execute_result"
    }
   ],
   "source": [
    "df.isnull().sum()"
   ]
  },
  {
   "cell_type": "code",
   "execution_count": 47,
   "id": "b6918301",
   "metadata": {},
   "outputs": [
    {
     "data": {
      "text/html": [
       "<div>\n",
       "<style scoped>\n",
       "    .dataframe tbody tr th:only-of-type {\n",
       "        vertical-align: middle;\n",
       "    }\n",
       "\n",
       "    .dataframe tbody tr th {\n",
       "        vertical-align: top;\n",
       "    }\n",
       "\n",
       "    .dataframe thead th {\n",
       "        text-align: right;\n",
       "    }\n",
       "</style>\n",
       "<table border=\"1\" class=\"dataframe\">\n",
       "  <thead>\n",
       "    <tr style=\"text-align: right;\">\n",
       "      <th></th>\n",
       "      <th>Patient age quantile</th>\n",
       "      <th>SARS-Cov-2 exam result</th>\n",
       "      <th>Hematocrit</th>\n",
       "      <th>Hemoglobin</th>\n",
       "      <th>Platelets</th>\n",
       "      <th>Mean platelet volume</th>\n",
       "      <th>Red blood Cells</th>\n",
       "      <th>Lymphocytes</th>\n",
       "      <th>Mean corpuscular hemoglobin concentration (MCHC)</th>\n",
       "      <th>Leukocytes</th>\n",
       "      <th>Basophils</th>\n",
       "      <th>Mean corpuscular hemoglobin (MCH)</th>\n",
       "      <th>Eosinophils</th>\n",
       "      <th>Mean corpuscular volume (MCV)</th>\n",
       "      <th>Monocytes</th>\n",
       "      <th>Red blood cell distribution width (RDW)</th>\n",
       "    </tr>\n",
       "  </thead>\n",
       "  <tbody>\n",
       "    <tr>\n",
       "      <th>count</th>\n",
       "      <td>519.000000</td>\n",
       "      <td>519</td>\n",
       "      <td>518.000000</td>\n",
       "      <td>518.000000</td>\n",
       "      <td>518.000000</td>\n",
       "      <td>509.000000</td>\n",
       "      <td>518.000000</td>\n",
       "      <td>518.000000</td>\n",
       "      <td>518.000000</td>\n",
       "      <td>518.000000</td>\n",
       "      <td>518.000000</td>\n",
       "      <td>518.000000</td>\n",
       "      <td>518.000000</td>\n",
       "      <td>518.000000</td>\n",
       "      <td>518.000000</td>\n",
       "      <td>518.000000</td>\n",
       "    </tr>\n",
       "    <tr>\n",
       "      <th>unique</th>\n",
       "      <td>NaN</td>\n",
       "      <td>2</td>\n",
       "      <td>NaN</td>\n",
       "      <td>NaN</td>\n",
       "      <td>NaN</td>\n",
       "      <td>NaN</td>\n",
       "      <td>NaN</td>\n",
       "      <td>NaN</td>\n",
       "      <td>NaN</td>\n",
       "      <td>NaN</td>\n",
       "      <td>NaN</td>\n",
       "      <td>NaN</td>\n",
       "      <td>NaN</td>\n",
       "      <td>NaN</td>\n",
       "      <td>NaN</td>\n",
       "      <td>NaN</td>\n",
       "    </tr>\n",
       "    <tr>\n",
       "      <th>top</th>\n",
       "      <td>NaN</td>\n",
       "      <td>negative</td>\n",
       "      <td>NaN</td>\n",
       "      <td>NaN</td>\n",
       "      <td>NaN</td>\n",
       "      <td>NaN</td>\n",
       "      <td>NaN</td>\n",
       "      <td>NaN</td>\n",
       "      <td>NaN</td>\n",
       "      <td>NaN</td>\n",
       "      <td>NaN</td>\n",
       "      <td>NaN</td>\n",
       "      <td>NaN</td>\n",
       "      <td>NaN</td>\n",
       "      <td>NaN</td>\n",
       "      <td>NaN</td>\n",
       "    </tr>\n",
       "    <tr>\n",
       "      <th>freq</th>\n",
       "      <td>NaN</td>\n",
       "      <td>361</td>\n",
       "      <td>NaN</td>\n",
       "      <td>NaN</td>\n",
       "      <td>NaN</td>\n",
       "      <td>NaN</td>\n",
       "      <td>NaN</td>\n",
       "      <td>NaN</td>\n",
       "      <td>NaN</td>\n",
       "      <td>NaN</td>\n",
       "      <td>NaN</td>\n",
       "      <td>NaN</td>\n",
       "      <td>NaN</td>\n",
       "      <td>NaN</td>\n",
       "      <td>NaN</td>\n",
       "      <td>NaN</td>\n",
       "    </tr>\n",
       "    <tr>\n",
       "      <th>mean</th>\n",
       "      <td>11.899807</td>\n",
       "      <td>NaN</td>\n",
       "      <td>-0.035010</td>\n",
       "      <td>-0.045927</td>\n",
       "      <td>-0.128215</td>\n",
       "      <td>0.041094</td>\n",
       "      <td>0.023144</td>\n",
       "      <td>-0.060255</td>\n",
       "      <td>-0.054971</td>\n",
       "      <td>-0.083538</td>\n",
       "      <td>-0.088138</td>\n",
       "      <td>-0.104475</td>\n",
       "      <td>-0.121497</td>\n",
       "      <td>-0.095275</td>\n",
       "      <td>-0.033613</td>\n",
       "      <td>0.008125</td>\n",
       "    </tr>\n",
       "    <tr>\n",
       "      <th>std</th>\n",
       "      <td>5.666877</td>\n",
       "      <td>NaN</td>\n",
       "      <td>0.984669</td>\n",
       "      <td>0.993799</td>\n",
       "      <td>1.018598</td>\n",
       "      <td>1.021966</td>\n",
       "      <td>1.025655</td>\n",
       "      <td>1.010504</td>\n",
       "      <td>1.035329</td>\n",
       "      <td>1.053666</td>\n",
       "      <td>0.877017</td>\n",
       "      <td>1.130581</td>\n",
       "      <td>0.990699</td>\n",
       "      <td>1.100198</td>\n",
       "      <td>1.019908</td>\n",
       "      <td>0.933132</td>\n",
       "    </tr>\n",
       "    <tr>\n",
       "      <th>min</th>\n",
       "      <td>0.000000</td>\n",
       "      <td>NaN</td>\n",
       "      <td>-3.608765</td>\n",
       "      <td>-3.593731</td>\n",
       "      <td>-2.313752</td>\n",
       "      <td>-2.457575</td>\n",
       "      <td>-3.635631</td>\n",
       "      <td>-1.865070</td>\n",
       "      <td>-5.431808</td>\n",
       "      <td>-1.928470</td>\n",
       "      <td>-1.140144</td>\n",
       "      <td>-5.937604</td>\n",
       "      <td>-0.835508</td>\n",
       "      <td>-5.101581</td>\n",
       "      <td>-2.163721</td>\n",
       "      <td>-1.509637</td>\n",
       "    </tr>\n",
       "    <tr>\n",
       "      <th>25%</th>\n",
       "      <td>8.000000</td>\n",
       "      <td>NaN</td>\n",
       "      <td>-0.576029</td>\n",
       "      <td>-0.711556</td>\n",
       "      <td>-0.781211</td>\n",
       "      <td>-0.662483</td>\n",
       "      <td>-0.567950</td>\n",
       "      <td>-0.779749</td>\n",
       "      <td>-0.552476</td>\n",
       "      <td>-0.759002</td>\n",
       "      <td>-0.758320</td>\n",
       "      <td>-0.501356</td>\n",
       "      <td>-0.751229</td>\n",
       "      <td>-0.534842</td>\n",
       "      <td>-0.692982</td>\n",
       "      <td>-0.625073</td>\n",
       "    </tr>\n",
       "    <tr>\n",
       "      <th>50%</th>\n",
       "      <td>13.000000</td>\n",
       "      <td>NaN</td>\n",
       "      <td>-0.083925</td>\n",
       "      <td>-0.022340</td>\n",
       "      <td>-0.234772</td>\n",
       "      <td>-0.101517</td>\n",
       "      <td>0.022667</td>\n",
       "      <td>-0.133674</td>\n",
       "      <td>-0.054585</td>\n",
       "      <td>-0.322799</td>\n",
       "      <td>-0.223767</td>\n",
       "      <td>0.073631</td>\n",
       "      <td>-0.456253</td>\n",
       "      <td>0.066045</td>\n",
       "      <td>-0.128323</td>\n",
       "      <td>-0.094334</td>\n",
       "    </tr>\n",
       "    <tr>\n",
       "      <th>75%</th>\n",
       "      <td>17.000000</td>\n",
       "      <td>NaN</td>\n",
       "      <td>0.694287</td>\n",
       "      <td>0.651212</td>\n",
       "      <td>0.374475</td>\n",
       "      <td>0.683835</td>\n",
       "      <td>0.697029</td>\n",
       "      <td>0.520930</td>\n",
       "      <td>0.642463</td>\n",
       "      <td>0.338114</td>\n",
       "      <td>0.387152</td>\n",
       "      <td>0.544077</td>\n",
       "      <td>0.133698</td>\n",
       "      <td>0.566783</td>\n",
       "      <td>0.541389</td>\n",
       "      <td>0.347948</td>\n",
       "    </tr>\n",
       "    <tr>\n",
       "      <th>max</th>\n",
       "      <td>19.000000</td>\n",
       "      <td>NaN</td>\n",
       "      <td>2.662704</td>\n",
       "      <td>2.671868</td>\n",
       "      <td>9.532034</td>\n",
       "      <td>3.713052</td>\n",
       "      <td>3.028643</td>\n",
       "      <td>3.764100</td>\n",
       "      <td>2.932760</td>\n",
       "      <td>4.522042</td>\n",
       "      <td>4.663579</td>\n",
       "      <td>2.059952</td>\n",
       "      <td>8.350876</td>\n",
       "      <td>3.150596</td>\n",
       "      <td>4.533397</td>\n",
       "      <td>5.124598</td>\n",
       "    </tr>\n",
       "  </tbody>\n",
       "</table>\n",
       "</div>"
      ],
      "text/plain": [
       "        Patient age quantile SARS-Cov-2 exam result  Hematocrit  Hemoglobin  \\\n",
       "count             519.000000                    519  518.000000  518.000000   \n",
       "unique                   NaN                      2         NaN         NaN   \n",
       "top                      NaN               negative         NaN         NaN   \n",
       "freq                     NaN                    361         NaN         NaN   \n",
       "mean               11.899807                    NaN   -0.035010   -0.045927   \n",
       "std                 5.666877                    NaN    0.984669    0.993799   \n",
       "min                 0.000000                    NaN   -3.608765   -3.593731   \n",
       "25%                 8.000000                    NaN   -0.576029   -0.711556   \n",
       "50%                13.000000                    NaN   -0.083925   -0.022340   \n",
       "75%                17.000000                    NaN    0.694287    0.651212   \n",
       "max                19.000000                    NaN    2.662704    2.671868   \n",
       "\n",
       "         Platelets  Mean platelet volume   Red blood Cells  Lymphocytes  \\\n",
       "count   518.000000             509.000000       518.000000   518.000000   \n",
       "unique         NaN                    NaN              NaN          NaN   \n",
       "top            NaN                    NaN              NaN          NaN   \n",
       "freq           NaN                    NaN              NaN          NaN   \n",
       "mean     -0.128215               0.041094         0.023144    -0.060255   \n",
       "std       1.018598               1.021966         1.025655     1.010504   \n",
       "min      -2.313752              -2.457575        -3.635631    -1.865070   \n",
       "25%      -0.781211              -0.662483        -0.567950    -0.779749   \n",
       "50%      -0.234772              -0.101517         0.022667    -0.133674   \n",
       "75%       0.374475               0.683835         0.697029     0.520930   \n",
       "max       9.532034               3.713052         3.028643     3.764100   \n",
       "\n",
       "        Mean corpuscular hemoglobin concentration (MCHC)  Leukocytes  \\\n",
       "count                                         518.000000  518.000000   \n",
       "unique                                               NaN         NaN   \n",
       "top                                                  NaN         NaN   \n",
       "freq                                                 NaN         NaN   \n",
       "mean                                           -0.054971   -0.083538   \n",
       "std                                             1.035329    1.053666   \n",
       "min                                            -5.431808   -1.928470   \n",
       "25%                                            -0.552476   -0.759002   \n",
       "50%                                            -0.054585   -0.322799   \n",
       "75%                                             0.642463    0.338114   \n",
       "max                                             2.932760    4.522042   \n",
       "\n",
       "         Basophils  Mean corpuscular hemoglobin (MCH)  Eosinophils  \\\n",
       "count   518.000000                         518.000000   518.000000   \n",
       "unique         NaN                                NaN          NaN   \n",
       "top            NaN                                NaN          NaN   \n",
       "freq           NaN                                NaN          NaN   \n",
       "mean     -0.088138                          -0.104475    -0.121497   \n",
       "std       0.877017                           1.130581     0.990699   \n",
       "min      -1.140144                          -5.937604    -0.835508   \n",
       "25%      -0.758320                          -0.501356    -0.751229   \n",
       "50%      -0.223767                           0.073631    -0.456253   \n",
       "75%       0.387152                           0.544077     0.133698   \n",
       "max       4.663579                           2.059952     8.350876   \n",
       "\n",
       "        Mean corpuscular volume (MCV)   Monocytes  \\\n",
       "count                      518.000000  518.000000   \n",
       "unique                            NaN         NaN   \n",
       "top                               NaN         NaN   \n",
       "freq                              NaN         NaN   \n",
       "mean                        -0.095275   -0.033613   \n",
       "std                          1.100198    1.019908   \n",
       "min                         -5.101581   -2.163721   \n",
       "25%                         -0.534842   -0.692982   \n",
       "50%                          0.066045   -0.128323   \n",
       "75%                          0.566783    0.541389   \n",
       "max                          3.150596    4.533397   \n",
       "\n",
       "        Red blood cell distribution width (RDW)  \n",
       "count                                518.000000  \n",
       "unique                                      NaN  \n",
       "top                                         NaN  \n",
       "freq                                        NaN  \n",
       "mean                                   0.008125  \n",
       "std                                    0.933132  \n",
       "min                                   -1.509637  \n",
       "25%                                   -0.625073  \n",
       "50%                                   -0.094334  \n",
       "75%                                    0.347948  \n",
       "max                                    5.124598  "
      ]
     },
     "execution_count": 47,
     "metadata": {},
     "output_type": "execute_result"
    }
   ],
   "source": [
    "df.describe(include='all')"
   ]
  },
  {
   "cell_type": "code",
   "execution_count": 48,
   "id": "555991b7",
   "metadata": {},
   "outputs": [
    {
     "data": {
      "text/plain": [
       "Index(['patientagequantile', 'sars-cov-2examresult', 'hematocrit',\n",
       "       'hemoglobin', 'platelets', 'meanplateletvolume', 'redbloodcells',\n",
       "       'lymphocytes', 'meancorpuscularhemoglobinconcentration(mchc)',\n",
       "       'leukocytes', 'basophils', 'meancorpuscularhemoglobin(mch)',\n",
       "       'eosinophils', 'meancorpuscularvolume(mcv)', 'monocytes',\n",
       "       'redbloodcelldistributionwidth(rdw)'],\n",
       "      dtype='object')"
      ]
     },
     "execution_count": 48,
     "metadata": {},
     "output_type": "execute_result"
    }
   ],
   "source": [
    "col_list=[]\n",
    "for i in range(len(df.columns)):\n",
    "    \n",
    "    col_list.append((''.join(df.columns[i].split()).lower()))\n",
    "\n",
    "df.columns=col_list\n",
    "df.columns"
   ]
  },
  {
   "cell_type": "code",
   "execution_count": 49,
   "id": "662ccac6",
   "metadata": {},
   "outputs": [],
   "source": [
    "df[\"meanplateletvolume\"].fillna(df[\"meanplateletvolume\"].median(),inplace=True)"
   ]
  },
  {
   "cell_type": "code",
   "execution_count": 50,
   "id": "b49db942",
   "metadata": {},
   "outputs": [],
   "source": [
    "df=df.dropna()"
   ]
  },
  {
   "cell_type": "code",
   "execution_count": 51,
   "id": "acebf86d",
   "metadata": {},
   "outputs": [
    {
     "data": {
      "text/plain": [
       "patientagequantile                              0\n",
       "sars-cov-2examresult                            0\n",
       "hematocrit                                      0\n",
       "hemoglobin                                      0\n",
       "platelets                                       0\n",
       "meanplateletvolume                              0\n",
       "redbloodcells                                   0\n",
       "lymphocytes                                     0\n",
       "meancorpuscularhemoglobinconcentration(mchc)    0\n",
       "leukocytes                                      0\n",
       "basophils                                       0\n",
       "meancorpuscularhemoglobin(mch)                  0\n",
       "eosinophils                                     0\n",
       "meancorpuscularvolume(mcv)                      0\n",
       "monocytes                                       0\n",
       "redbloodcelldistributionwidth(rdw)              0\n",
       "dtype: int64"
      ]
     },
     "execution_count": 51,
     "metadata": {},
     "output_type": "execute_result"
    }
   ],
   "source": [
    "df.isnull().sum()"
   ]
  },
  {
   "cell_type": "code",
   "execution_count": 54,
   "id": "b3627c38",
   "metadata": {},
   "outputs": [
    {
     "data": {
      "text/plain": [
       "negative    360\n",
       "positive    158\n",
       "Name: sars-cov-2examresult, dtype: int64"
      ]
     },
     "execution_count": 54,
     "metadata": {},
     "output_type": "execute_result"
    }
   ],
   "source": [
    "df['sars-cov-2examresult'].value_counts()"
   ]
  },
  {
   "cell_type": "code",
   "execution_count": 55,
   "id": "de8601ab",
   "metadata": {},
   "outputs": [],
   "source": [
    "df['sars-cov-2examresult']=df['sars-cov-2examresult'].str.lower()"
   ]
  },
  {
   "cell_type": "code",
   "execution_count": 57,
   "id": "9f110095",
   "metadata": {},
   "outputs": [],
   "source": [
    "df['sars-cov-2examresult']=(df['sars-cov-2examresult']=='negative').astype(int)"
   ]
  },
  {
   "cell_type": "code",
   "execution_count": 58,
   "id": "10da8bd9",
   "metadata": {},
   "outputs": [
    {
     "data": {
      "text/plain": [
       "0      1\n",
       "1      1\n",
       "2      1\n",
       "3      1\n",
       "4      1\n",
       "      ..\n",
       "514    0\n",
       "515    1\n",
       "516    0\n",
       "517    1\n",
       "518    0\n",
       "Name: sars-cov-2examresult, Length: 518, dtype: int32"
      ]
     },
     "execution_count": 58,
     "metadata": {},
     "output_type": "execute_result"
    }
   ],
   "source": [
    "df['sars-cov-2examresult']"
   ]
  },
  {
   "cell_type": "code",
   "execution_count": 60,
   "id": "732c064b",
   "metadata": {},
   "outputs": [],
   "source": [
    "from sklearn.model_selection import train_test_split\n",
    "from sklearn.linear_model import LogisticRegression"
   ]
  },
  {
   "cell_type": "code",
   "execution_count": 61,
   "id": "04c8b21a",
   "metadata": {},
   "outputs": [],
   "source": [
    "X_train, X_test, y_train, y_test = train_test_split(df, df['sars-cov-2examresult'], test_size = 0.2, random_state = 42)"
   ]
  },
  {
   "cell_type": "code",
   "execution_count": 62,
   "id": "ed3e504d",
   "metadata": {},
   "outputs": [
    {
     "name": "stdout",
     "output_type": "stream",
     "text": [
      "1.0\n"
     ]
    },
    {
     "data": {
      "text/plain": [
       "array([1, 1, 1, 1, 0, 0, 0, 1, 1, 1, 1, 1, 1, 1, 1, 1, 1, 1, 1, 0, 1, 1,\n",
       "       1, 0, 0, 1, 1, 0, 0, 1, 0, 0, 0, 1, 0, 0, 1, 1, 1, 1, 0, 1, 0, 1,\n",
       "       1, 0, 0, 1, 1, 0, 1, 1, 0, 0, 1, 1, 0, 1, 1, 0, 1, 1, 1, 1, 1, 1,\n",
       "       1, 1, 1, 1, 1, 1, 0, 1, 0, 1, 0, 0, 1, 1, 1, 1, 1, 0, 0, 1, 0, 1,\n",
       "       0, 1, 0, 1, 1, 1, 1, 0, 1, 1, 1, 0, 0, 0, 1, 0])"
      ]
     },
     "execution_count": 62,
     "metadata": {},
     "output_type": "execute_result"
    }
   ],
   "source": [
    "clss = LogisticRegression(random_state = 42)\n",
    "clss.fit(X_train, y_train)\n",
    "print(clss.score(X_test,y_test))\n",
    "# Predicting the Test set results\n",
    "y_pred = clss.predict(X_test)\n",
    "\n",
    "y_pred "
   ]
  },
  {
   "cell_type": "code",
   "execution_count": 63,
   "id": "ce1e9c26",
   "metadata": {},
   "outputs": [
    {
     "name": "stdout",
     "output_type": "stream",
     "text": [
      "Accuracy Score is :  104\n"
     ]
    },
    {
     "data": {
      "text/plain": [
       "array([[36,  0],\n",
       "       [ 0, 68]], dtype=int64)"
      ]
     },
     "execution_count": 63,
     "metadata": {},
     "output_type": "execute_result"
    }
   ],
   "source": [
    "from sklearn.metrics import confusion_matrix,accuracy_score\n",
    "cm = confusion_matrix(y_test, y_pred)\n",
    "\n",
    "AccScore = accuracy_score(y_test, y_pred, normalize=False)\n",
    "print('Accuracy Score is : ', AccScore)\n",
    "\n",
    "cm"
   ]
  },
  {
   "cell_type": "code",
   "execution_count": 64,
   "id": "f054621d",
   "metadata": {},
   "outputs": [
    {
     "data": {
      "text/plain": [
       "0.0"
      ]
     },
     "execution_count": 64,
     "metadata": {},
     "output_type": "execute_result"
    }
   ],
   "source": [
    "from sklearn.metrics import mean_absolute_error\n",
    "mean_absolute_error(y_test, y_pred)"
   ]
  },
  {
   "cell_type": "code",
   "execution_count": 65,
   "id": "37e72f76",
   "metadata": {},
   "outputs": [],
   "source": [
    "from sklearn.svm import SVC"
   ]
  },
  {
   "cell_type": "code",
   "execution_count": 66,
   "id": "5092232d",
   "metadata": {},
   "outputs": [
    {
     "name": "stdout",
     "output_type": "stream",
     "text": [
      "score =  0.9519230769230769\n"
     ]
    }
   ],
   "source": [
    "svc = SVC()\n",
    "svc.fit(X_train, y_train\n",
    "       )\n",
    "\n",
    "sc = svc.score(X_test,y_test)\n",
    "\n",
    "print('score = ' , sc)"
   ]
  },
  {
   "cell_type": "code",
   "execution_count": 67,
   "id": "41fa460b",
   "metadata": {},
   "outputs": [],
   "source": [
    "from sklearn.tree import DecisionTreeClassifier"
   ]
  },
  {
   "cell_type": "code",
   "execution_count": 68,
   "id": "23d06a16",
   "metadata": {},
   "outputs": [
    {
     "data": {
      "text/plain": [
       "DecisionTreeClassifier(criterion='entropy', max_depth=5, min_samples_leaf=5,\n",
       "                       random_state=100)"
      ]
     },
     "execution_count": 68,
     "metadata": {},
     "output_type": "execute_result"
    }
   ],
   "source": [
    "clf_gini = DecisionTreeClassifier(criterion = \"gini\", random_state = 100,max_depth=4, min_samples_leaf=5)\n",
    "clf_gini.fit(X_train, y_train)\n",
    "\n",
    "clf_entropy = DecisionTreeClassifier(criterion = \"entropy\", random_state = 100,max_depth=5, min_samples_leaf=5)\n",
    "clf_entropy.fit(X_train, y_train)"
   ]
  },
  {
   "cell_type": "code",
   "execution_count": 69,
   "id": "fce0c429",
   "metadata": {},
   "outputs": [
    {
     "data": {
      "text/plain": [
       "array([1, 1, 1, 1, 0, 0, 0, 1, 1, 1, 1, 1, 1, 1, 1, 1, 1, 1, 1, 0, 1, 1,\n",
       "       1, 0, 0, 1, 1, 0, 0, 1, 0, 0, 0, 1, 0, 0, 1, 1, 1, 1, 0, 1, 0, 1,\n",
       "       1, 0, 0, 1, 1, 0, 1, 1, 0, 0, 1, 1, 0, 1, 1, 0, 1, 1, 1, 1, 1, 1,\n",
       "       1, 1, 1, 1, 1, 1, 0, 1, 0, 1, 0, 0, 1, 1, 1, 1, 1, 0, 0, 1, 0, 1,\n",
       "       0, 1, 0, 1, 1, 1, 1, 0, 1, 1, 1, 0, 0, 0, 1, 0])"
      ]
     },
     "execution_count": 69,
     "metadata": {},
     "output_type": "execute_result"
    }
   ],
   "source": [
    "y_pred = clf_gini.predict(X_test)\n",
    "y_pred"
   ]
  },
  {
   "cell_type": "code",
   "execution_count": 70,
   "id": "0544ba8a",
   "metadata": {},
   "outputs": [
    {
     "name": "stdout",
     "output_type": "stream",
     "text": [
      "Accuracy for gini is  100.0\n",
      "Accuracy for entropy is  100.0\n"
     ]
    }
   ],
   "source": [
    "y_pred_en = clf_entropy.predict(X_test)\n",
    "y_pred_en\n",
    "\n",
    "print (\"Accuracy for gini is \", accuracy_score(y_test,y_pred)*100)\n",
    "\n",
    "print (\"Accuracy for entropy is \", accuracy_score(y_test,y_pred_en)*100)"
   ]
  },
  {
   "cell_type": "code",
   "execution_count": null,
   "id": "2cac91ec",
   "metadata": {},
   "outputs": [],
   "source": []
  }
 ],
 "metadata": {
  "kernelspec": {
   "display_name": "Python 3 (ipykernel)",
   "language": "python",
   "name": "python3"
  },
  "language_info": {
   "codemirror_mode": {
    "name": "ipython",
    "version": 3
   },
   "file_extension": ".py",
   "mimetype": "text/x-python",
   "name": "python",
   "nbconvert_exporter": "python",
   "pygments_lexer": "ipython3",
   "version": "3.9.7"
  }
 },
 "nbformat": 4,
 "nbformat_minor": 5
}
